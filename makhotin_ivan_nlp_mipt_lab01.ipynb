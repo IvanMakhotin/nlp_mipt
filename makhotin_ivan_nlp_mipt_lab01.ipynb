{
 "cells": [
  {
   "cell_type": "code",
   "execution_count": 1,
   "metadata": {
    "collapsed": true
   },
   "outputs": [],
   "source": [
    "import pandas as pd\n",
    "import numpy as np\n",
    "pd.set_option('display.max_colwidth', 500)\n",
    "from sklearn.feature_extraction.text import CountVectorizer\n",
    "from sklearn.linear_model import LogisticRegression\n",
    "from sklearn.model_selection import cross_val_score\n",
    "import warnings\n",
    "warnings.filterwarnings('ignore')"
   ]
  },
  {
   "cell_type": "markdown",
   "metadata": {},
   "source": [
    "# Задание 1. Классификация\tтекстов:\tспам-фильтр\tдля\tSMS."
   ]
  },
  {
   "cell_type": "markdown",
   "metadata": {},
   "source": [
    "### 1,2)"
   ]
  },
  {
   "cell_type": "code",
   "execution_count": 2,
   "metadata": {
    "collapsed": false
   },
   "outputs": [
    {
     "data": {
      "text/html": [
       "<div>\n",
       "<table border=\"1\" class=\"dataframe\">\n",
       "  <thead>\n",
       "    <tr style=\"text-align: right;\">\n",
       "      <th></th>\n",
       "      <th>label</th>\n",
       "      <th>sms</th>\n",
       "    </tr>\n",
       "  </thead>\n",
       "  <tbody>\n",
       "    <tr>\n",
       "      <th>0</th>\n",
       "      <td>ham</td>\n",
       "      <td>Go until jurong point, crazy.. Available only in bugis n great world la e buffet... Cine there got amore wat...</td>\n",
       "    </tr>\n",
       "    <tr>\n",
       "      <th>1</th>\n",
       "      <td>ham</td>\n",
       "      <td>Ok lar... Joking wif u oni...</td>\n",
       "    </tr>\n",
       "    <tr>\n",
       "      <th>2</th>\n",
       "      <td>spam</td>\n",
       "      <td>Free entry in 2 a wkly comp to win FA Cup final tkts 21st May 2005. Text FA to 87121 to receive entry question(std txt rate)T&amp;C's apply 08452810075over18's</td>\n",
       "    </tr>\n",
       "    <tr>\n",
       "      <th>3</th>\n",
       "      <td>ham</td>\n",
       "      <td>U dun say so early hor... U c already then say...</td>\n",
       "    </tr>\n",
       "    <tr>\n",
       "      <th>4</th>\n",
       "      <td>ham</td>\n",
       "      <td>Nah I don't think he goes to usf, he lives around here though</td>\n",
       "    </tr>\n",
       "    <tr>\n",
       "      <th>5</th>\n",
       "      <td>spam</td>\n",
       "      <td>FreeMsg Hey there darling it's been 3 week's now and no word back! I'd like some fun you up for it still? Tb ok! XxX std chgs to send, £1.50 to rcv</td>\n",
       "    </tr>\n",
       "    <tr>\n",
       "      <th>6</th>\n",
       "      <td>ham</td>\n",
       "      <td>Even my brother is not like to speak with me. They treat me like aids patent.</td>\n",
       "    </tr>\n",
       "    <tr>\n",
       "      <th>7</th>\n",
       "      <td>ham</td>\n",
       "      <td>As per your request 'Melle Melle (Oru Minnaminunginte Nurungu Vettam)' has been set as your callertune for all Callers. Press *9 to copy your friends Callertune</td>\n",
       "    </tr>\n",
       "    <tr>\n",
       "      <th>8</th>\n",
       "      <td>spam</td>\n",
       "      <td>WINNER!! As a valued network customer you have been selected to receivea £900 prize reward! To claim call 09061701461. Claim code KL341. Valid 12 hours only.</td>\n",
       "    </tr>\n",
       "    <tr>\n",
       "      <th>9</th>\n",
       "      <td>spam</td>\n",
       "      <td>Had your mobile 11 months or more? U R entitled to Update to the latest colour mobiles with camera for Free! Call The Mobile Update Co FREE on 08002986030</td>\n",
       "    </tr>\n",
       "    <tr>\n",
       "      <th>10</th>\n",
       "      <td>ham</td>\n",
       "      <td>I'm gonna be home soon and i don't want to talk about this stuff anymore tonight, k? I've cried enough today.</td>\n",
       "    </tr>\n",
       "    <tr>\n",
       "      <th>11</th>\n",
       "      <td>spam</td>\n",
       "      <td>SIX chances to win CASH! From 100 to 20,000 pounds txt&gt; CSH11 and send to 87575. Cost 150p/day, 6days, 16+ TsandCs apply Reply HL 4 info</td>\n",
       "    </tr>\n",
       "    <tr>\n",
       "      <th>12</th>\n",
       "      <td>spam</td>\n",
       "      <td>URGENT! You have won a 1 week FREE membership in our £100,000 Prize Jackpot! Txt the word: CLAIM to No: 81010 T&amp;C www.dbuk.net LCCLTD POBOX 4403LDNW1A7RW18</td>\n",
       "    </tr>\n",
       "    <tr>\n",
       "      <th>13</th>\n",
       "      <td>ham</td>\n",
       "      <td>I've been searching for the right words to thank you for this breather. I promise i wont take your help for granted and will fulfil my promise. You have been wonderful and a blessing at all times.</td>\n",
       "    </tr>\n",
       "    <tr>\n",
       "      <th>14</th>\n",
       "      <td>ham</td>\n",
       "      <td>I HAVE A DATE ON SUNDAY WITH WILL!!</td>\n",
       "    </tr>\n",
       "    <tr>\n",
       "      <th>15</th>\n",
       "      <td>spam</td>\n",
       "      <td>XXXMobileMovieClub: To use your credit, click the WAP link in the next txt message or click here&gt;&gt; http://wap. xxxmobilemovieclub.com?n=QJKGIGHJJGCBL</td>\n",
       "    </tr>\n",
       "    <tr>\n",
       "      <th>16</th>\n",
       "      <td>ham</td>\n",
       "      <td>Oh k...i'm watching here:)</td>\n",
       "    </tr>\n",
       "    <tr>\n",
       "      <th>17</th>\n",
       "      <td>ham</td>\n",
       "      <td>Eh u remember how 2 spell his name... Yes i did. He v naughty make until i v wet.</td>\n",
       "    </tr>\n",
       "    <tr>\n",
       "      <th>18</th>\n",
       "      <td>ham</td>\n",
       "      <td>Fine if thats the way u feel. Thats the way its gota b</td>\n",
       "    </tr>\n",
       "    <tr>\n",
       "      <th>19</th>\n",
       "      <td>spam</td>\n",
       "      <td>England v Macedonia - dont miss the goals/team news. Txt ur national team to 87077 eg ENGLAND to 87077 Try:WALES, SCOTLAND 4txt/ú1.20 POBOXox36504W45WQ 16+</td>\n",
       "    </tr>\n",
       "    <tr>\n",
       "      <th>20</th>\n",
       "      <td>ham</td>\n",
       "      <td>Is that seriously how you spell his name?</td>\n",
       "    </tr>\n",
       "    <tr>\n",
       "      <th>21</th>\n",
       "      <td>ham</td>\n",
       "      <td>I‘m going to try for 2 months ha ha only joking</td>\n",
       "    </tr>\n",
       "    <tr>\n",
       "      <th>22</th>\n",
       "      <td>ham</td>\n",
       "      <td>So ü pay first lar... Then when is da stock comin...</td>\n",
       "    </tr>\n",
       "    <tr>\n",
       "      <th>23</th>\n",
       "      <td>ham</td>\n",
       "      <td>Aft i finish my lunch then i go str down lor. Ard 3 smth lor. U finish ur lunch already?</td>\n",
       "    </tr>\n",
       "    <tr>\n",
       "      <th>24</th>\n",
       "      <td>ham</td>\n",
       "      <td>Ffffffffff. Alright no way I can meet up with you sooner?</td>\n",
       "    </tr>\n",
       "    <tr>\n",
       "      <th>25</th>\n",
       "      <td>ham</td>\n",
       "      <td>Just forced myself to eat a slice. I'm really not hungry tho. This sucks. Mark is getting worried. He knows I'm sick when I turn down pizza. Lol</td>\n",
       "    </tr>\n",
       "    <tr>\n",
       "      <th>26</th>\n",
       "      <td>ham</td>\n",
       "      <td>Lol your always so convincing.</td>\n",
       "    </tr>\n",
       "    <tr>\n",
       "      <th>27</th>\n",
       "      <td>ham</td>\n",
       "      <td>Did you catch the bus ? Are you frying an egg ? Did you make a tea? Are you eating your mom's left over dinner ? Do you feel my Love ?</td>\n",
       "    </tr>\n",
       "    <tr>\n",
       "      <th>28</th>\n",
       "      <td>ham</td>\n",
       "      <td>I'm back &amp;amp; we're packing the car now, I'll let you know if there's room</td>\n",
       "    </tr>\n",
       "    <tr>\n",
       "      <th>29</th>\n",
       "      <td>ham</td>\n",
       "      <td>Ahhh. Work. I vaguely remember that! What does it feel like? Lol</td>\n",
       "    </tr>\n",
       "    <tr>\n",
       "      <th>...</th>\n",
       "      <td>...</td>\n",
       "      <td>...</td>\n",
       "    </tr>\n",
       "    <tr>\n",
       "      <th>5542</th>\n",
       "      <td>ham</td>\n",
       "      <td>Armand says get your ass over to epsilon</td>\n",
       "    </tr>\n",
       "    <tr>\n",
       "      <th>5543</th>\n",
       "      <td>ham</td>\n",
       "      <td>U still havent got urself a jacket ah?</td>\n",
       "    </tr>\n",
       "    <tr>\n",
       "      <th>5544</th>\n",
       "      <td>ham</td>\n",
       "      <td>I'm taking derek &amp;amp; taylor to walmart, if I'm not back by the time you're done just leave the mouse on my desk and I'll text you when priscilla's ready</td>\n",
       "    </tr>\n",
       "    <tr>\n",
       "      <th>5545</th>\n",
       "      <td>ham</td>\n",
       "      <td>Hi its in durban are you still on this number</td>\n",
       "    </tr>\n",
       "    <tr>\n",
       "      <th>5546</th>\n",
       "      <td>ham</td>\n",
       "      <td>Ic. There are a lotta childporn cars then.</td>\n",
       "    </tr>\n",
       "    <tr>\n",
       "      <th>5547</th>\n",
       "      <td>spam</td>\n",
       "      <td>Had your contract mobile 11 Mnths? Latest Motorola, Nokia etc. all FREE! Double Mins &amp; Text on Orange tariffs. TEXT YES for callback, no to remove from records.</td>\n",
       "    </tr>\n",
       "    <tr>\n",
       "      <th>5548</th>\n",
       "      <td>ham</td>\n",
       "      <td>No, I was trying it all weekend ;V</td>\n",
       "    </tr>\n",
       "    <tr>\n",
       "      <th>5549</th>\n",
       "      <td>ham</td>\n",
       "      <td>You know, wot people wear. T shirts, jumpers, hat, belt, is all we know. We r at Cribbs</td>\n",
       "    </tr>\n",
       "    <tr>\n",
       "      <th>5550</th>\n",
       "      <td>ham</td>\n",
       "      <td>Cool, what time you think you can get here?</td>\n",
       "    </tr>\n",
       "    <tr>\n",
       "      <th>5551</th>\n",
       "      <td>ham</td>\n",
       "      <td>Wen did you get so spiritual and deep. That's great</td>\n",
       "    </tr>\n",
       "    <tr>\n",
       "      <th>5552</th>\n",
       "      <td>ham</td>\n",
       "      <td>Have a safe trip to Nigeria. Wish you happiness and very soon company to share moments with</td>\n",
       "    </tr>\n",
       "    <tr>\n",
       "      <th>5553</th>\n",
       "      <td>ham</td>\n",
       "      <td>Hahaha..use your brain dear</td>\n",
       "    </tr>\n",
       "    <tr>\n",
       "      <th>5554</th>\n",
       "      <td>ham</td>\n",
       "      <td>Well keep in mind I've only got enough gas for one more round trip barring a sudden influx of cash</td>\n",
       "    </tr>\n",
       "    <tr>\n",
       "      <th>5555</th>\n",
       "      <td>ham</td>\n",
       "      <td>Yeh. Indians was nice. Tho it did kane me off a bit he he. We shud go out 4 a drink sometime soon. Mite hav 2 go 2 da works 4 a laugh soon. Love Pete x x</td>\n",
       "    </tr>\n",
       "    <tr>\n",
       "      <th>5556</th>\n",
       "      <td>ham</td>\n",
       "      <td>Yes i have. So that's why u texted. Pshew...missing you so much</td>\n",
       "    </tr>\n",
       "    <tr>\n",
       "      <th>5557</th>\n",
       "      <td>ham</td>\n",
       "      <td>No. I meant the calculation is the same. That  &amp;lt;#&amp;gt; units at  &amp;lt;#&amp;gt; . This school is really expensive. Have you started practicing your accent. Because its important. And have you decided if you are doing 4years of dental school or if you'll just do the nmde exam.</td>\n",
       "    </tr>\n",
       "    <tr>\n",
       "      <th>5558</th>\n",
       "      <td>ham</td>\n",
       "      <td>Sorry, I'll call later</td>\n",
       "    </tr>\n",
       "    <tr>\n",
       "      <th>5559</th>\n",
       "      <td>ham</td>\n",
       "      <td>if you aren't here in the next  &amp;lt;#&amp;gt;  hours imma flip my shit</td>\n",
       "    </tr>\n",
       "    <tr>\n",
       "      <th>5560</th>\n",
       "      <td>ham</td>\n",
       "      <td>Anything lor. Juz both of us lor.</td>\n",
       "    </tr>\n",
       "    <tr>\n",
       "      <th>5561</th>\n",
       "      <td>ham</td>\n",
       "      <td>Get me out of this dump heap. My mom decided to come to lowes. BORING.</td>\n",
       "    </tr>\n",
       "    <tr>\n",
       "      <th>5562</th>\n",
       "      <td>ham</td>\n",
       "      <td>Ok lor... Sony ericsson salesman... I ask shuhui then she say quite gd 2 use so i considering...</td>\n",
       "    </tr>\n",
       "    <tr>\n",
       "      <th>5563</th>\n",
       "      <td>ham</td>\n",
       "      <td>Ard 6 like dat lor.</td>\n",
       "    </tr>\n",
       "    <tr>\n",
       "      <th>5564</th>\n",
       "      <td>ham</td>\n",
       "      <td>Why don't you wait 'til at least wednesday to see if you get your .</td>\n",
       "    </tr>\n",
       "    <tr>\n",
       "      <th>5565</th>\n",
       "      <td>ham</td>\n",
       "      <td>Huh y lei...</td>\n",
       "    </tr>\n",
       "    <tr>\n",
       "      <th>5566</th>\n",
       "      <td>spam</td>\n",
       "      <td>REMINDER FROM O2: To get 2.50 pounds free call credit and details of great offers pls reply 2 this text with your valid name, house no and postcode</td>\n",
       "    </tr>\n",
       "    <tr>\n",
       "      <th>5567</th>\n",
       "      <td>spam</td>\n",
       "      <td>This is the 2nd time we have tried 2 contact u. U have won the £750 Pound prize. 2 claim is easy, call 087187272008 NOW1! Only 10p per minute. BT-national-rate.</td>\n",
       "    </tr>\n",
       "    <tr>\n",
       "      <th>5568</th>\n",
       "      <td>ham</td>\n",
       "      <td>Will ü b going to esplanade fr home?</td>\n",
       "    </tr>\n",
       "    <tr>\n",
       "      <th>5569</th>\n",
       "      <td>ham</td>\n",
       "      <td>Pity, * was in mood for that. So...any other suggestions?</td>\n",
       "    </tr>\n",
       "    <tr>\n",
       "      <th>5570</th>\n",
       "      <td>ham</td>\n",
       "      <td>The guy did some bitching but I acted like i'd be interested in buying something else next week and he gave it to us for free</td>\n",
       "    </tr>\n",
       "    <tr>\n",
       "      <th>5571</th>\n",
       "      <td>ham</td>\n",
       "      <td>Rofl. Its true to its name</td>\n",
       "    </tr>\n",
       "  </tbody>\n",
       "</table>\n",
       "<p>5572 rows × 2 columns</p>\n",
       "</div>"
      ],
      "text/plain": [
       "     label  \\\n",
       "0      ham   \n",
       "1      ham   \n",
       "2     spam   \n",
       "3      ham   \n",
       "4      ham   \n",
       "5     spam   \n",
       "6      ham   \n",
       "7      ham   \n",
       "8     spam   \n",
       "9     spam   \n",
       "10     ham   \n",
       "11    spam   \n",
       "12    spam   \n",
       "13     ham   \n",
       "14     ham   \n",
       "15    spam   \n",
       "16     ham   \n",
       "17     ham   \n",
       "18     ham   \n",
       "19    spam   \n",
       "20     ham   \n",
       "21     ham   \n",
       "22     ham   \n",
       "23     ham   \n",
       "24     ham   \n",
       "25     ham   \n",
       "26     ham   \n",
       "27     ham   \n",
       "28     ham   \n",
       "29     ham   \n",
       "...    ...   \n",
       "5542   ham   \n",
       "5543   ham   \n",
       "5544   ham   \n",
       "5545   ham   \n",
       "5546   ham   \n",
       "5547  spam   \n",
       "5548   ham   \n",
       "5549   ham   \n",
       "5550   ham   \n",
       "5551   ham   \n",
       "5552   ham   \n",
       "5553   ham   \n",
       "5554   ham   \n",
       "5555   ham   \n",
       "5556   ham   \n",
       "5557   ham   \n",
       "5558   ham   \n",
       "5559   ham   \n",
       "5560   ham   \n",
       "5561   ham   \n",
       "5562   ham   \n",
       "5563   ham   \n",
       "5564   ham   \n",
       "5565   ham   \n",
       "5566  spam   \n",
       "5567  spam   \n",
       "5568   ham   \n",
       "5569   ham   \n",
       "5570   ham   \n",
       "5571   ham   \n",
       "\n",
       "                                                                                                                                                                                                                                                                                    sms  \n",
       "0                                                                                                                                                                       Go until jurong point, crazy.. Available only in bugis n great world la e buffet... Cine there got amore wat...  \n",
       "1                                                                                                                                                                                                                                                         Ok lar... Joking wif u oni...  \n",
       "2                                                                                                                           Free entry in 2 a wkly comp to win FA Cup final tkts 21st May 2005. Text FA to 87121 to receive entry question(std txt rate)T&C's apply 08452810075over18's  \n",
       "3                                                                                                                                                                                                                                     U dun say so early hor... U c already then say...  \n",
       "4                                                                                                                                                                                                                         Nah I don't think he goes to usf, he lives around here though  \n",
       "5                                                                                                                                   FreeMsg Hey there darling it's been 3 week's now and no word back! I'd like some fun you up for it still? Tb ok! XxX std chgs to send, £1.50 to rcv  \n",
       "6                                                                                                                                                                                                         Even my brother is not like to speak with me. They treat me like aids patent.  \n",
       "7                                                                                                                      As per your request 'Melle Melle (Oru Minnaminunginte Nurungu Vettam)' has been set as your callertune for all Callers. Press *9 to copy your friends Callertune  \n",
       "8                                                                                                                         WINNER!! As a valued network customer you have been selected to receivea £900 prize reward! To claim call 09061701461. Claim code KL341. Valid 12 hours only.  \n",
       "9                                                                                                                            Had your mobile 11 months or more? U R entitled to Update to the latest colour mobiles with camera for Free! Call The Mobile Update Co FREE on 08002986030  \n",
       "10                                                                                                                                                                        I'm gonna be home soon and i don't want to talk about this stuff anymore tonight, k? I've cried enough today.  \n",
       "11                                                                                                                                             SIX chances to win CASH! From 100 to 20,000 pounds txt> CSH11 and send to 87575. Cost 150p/day, 6days, 16+ TsandCs apply Reply HL 4 info  \n",
       "12                                                                                                                          URGENT! You have won a 1 week FREE membership in our £100,000 Prize Jackpot! Txt the word: CLAIM to No: 81010 T&C www.dbuk.net LCCLTD POBOX 4403LDNW1A7RW18  \n",
       "13                                                                                 I've been searching for the right words to thank you for this breather. I promise i wont take your help for granted and will fulfil my promise. You have been wonderful and a blessing at all times.  \n",
       "14                                                                                                                                                                                                                                                  I HAVE A DATE ON SUNDAY WITH WILL!!  \n",
       "15                                                                                                                                XXXMobileMovieClub: To use your credit, click the WAP link in the next txt message or click here>> http://wap. xxxmobilemovieclub.com?n=QJKGIGHJJGCBL  \n",
       "16                                                                                                                                                                                                                                                           Oh k...i'm watching here:)  \n",
       "17                                                                                                                                                                                                    Eh u remember how 2 spell his name... Yes i did. He v naughty make until i v wet.  \n",
       "18                                                                                                                                                                                                                             Fine if thats the way u feel. Thats the way its gota b  \n",
       "19                                                                                                                          England v Macedonia - dont miss the goals/team news. Txt ur national team to 87077 eg ENGLAND to 87077 Try:WALES, SCOTLAND 4txt/ú1.20 POBOXox36504W45WQ 16+  \n",
       "20                                                                                                                                                                                                                                            Is that seriously how you spell his name?  \n",
       "21                                                                                                                                                                                                                                      I‘m going to try for 2 months ha ha only joking  \n",
       "22                                                                                                                                                                                                                                 So ü pay first lar... Then when is da stock comin...  \n",
       "23                                                                                                                                                                                             Aft i finish my lunch then i go str down lor. Ard 3 smth lor. U finish ur lunch already?  \n",
       "24                                                                                                                                                                                                                            Ffffffffff. Alright no way I can meet up with you sooner?  \n",
       "25                                                                                                                                     Just forced myself to eat a slice. I'm really not hungry tho. This sucks. Mark is getting worried. He knows I'm sick when I turn down pizza. Lol  \n",
       "26                                                                                                                                                                                                                                                       Lol your always so convincing.  \n",
       "27                                                                                                                                               Did you catch the bus ? Are you frying an egg ? Did you make a tea? Are you eating your mom's left over dinner ? Do you feel my Love ?  \n",
       "28                                                                                                                                                                                                          I'm back &amp; we're packing the car now, I'll let you know if there's room  \n",
       "29                                                                                                                                                                                                                     Ahhh. Work. I vaguely remember that! What does it feel like? Lol  \n",
       "...                                                                                                                                                                                                                                                                                 ...  \n",
       "5542                                                                                                                                                                                                                                           Armand says get your ass over to epsilon  \n",
       "5543                                                                                                                                                                                                                                             U still havent got urself a jacket ah?  \n",
       "5544                                                                                                                         I'm taking derek &amp; taylor to walmart, if I'm not back by the time you're done just leave the mouse on my desk and I'll text you when priscilla's ready  \n",
       "5545                                                                                                                                                                                                                                      Hi its in durban are you still on this number  \n",
       "5546                                                                                                                                                                                                                                         Ic. There are a lotta childporn cars then.  \n",
       "5547                                                                                                                   Had your contract mobile 11 Mnths? Latest Motorola, Nokia etc. all FREE! Double Mins & Text on Orange tariffs. TEXT YES for callback, no to remove from records.  \n",
       "5548                                                                                                                                                                                                                                                 No, I was trying it all weekend ;V  \n",
       "5549                                                                                                                                                                                            You know, wot people wear. T shirts, jumpers, hat, belt, is all we know. We r at Cribbs  \n",
       "5550                                                                                                                                                                                                                                        Cool, what time you think you can get here?  \n",
       "5551                                                                                                                                                                                                                                Wen did you get so spiritual and deep. That's great  \n",
       "5552                                                                                                                                                                                        Have a safe trip to Nigeria. Wish you happiness and very soon company to share moments with  \n",
       "5553                                                                                                                                                                                                                                                        Hahaha..use your brain dear  \n",
       "5554                                                                                                                                                                                 Well keep in mind I've only got enough gas for one more round trip barring a sudden influx of cash  \n",
       "5555                                                                                                                          Yeh. Indians was nice. Tho it did kane me off a bit he he. We shud go out 4 a drink sometime soon. Mite hav 2 go 2 da works 4 a laugh soon. Love Pete x x  \n",
       "5556                                                                                                                                                                                                                    Yes i have. So that's why u texted. Pshew...missing you so much  \n",
       "5557  No. I meant the calculation is the same. That  &lt;#&gt; units at  &lt;#&gt; . This school is really expensive. Have you started practicing your accent. Because its important. And have you decided if you are doing 4years of dental school or if you'll just do the nmde exam.  \n",
       "5558                                                                                                                                                                                                                                                             Sorry, I'll call later  \n",
       "5559                                                                                                                                                                                                                 if you aren't here in the next  &lt;#&gt;  hours imma flip my shit  \n",
       "5560                                                                                                                                                                                                                                                  Anything lor. Juz both of us lor.  \n",
       "5561                                                                                                                                                                                                             Get me out of this dump heap. My mom decided to come to lowes. BORING.  \n",
       "5562                                                                                                                                                                                   Ok lor... Sony ericsson salesman... I ask shuhui then she say quite gd 2 use so i considering...  \n",
       "5563                                                                                                                                                                                                                                                                Ard 6 like dat lor.  \n",
       "5564                                                                                                                                                                                                                Why don't you wait 'til at least wednesday to see if you get your .  \n",
       "5565                                                                                                                                                                                                                                                                       Huh y lei...  \n",
       "5566                                                                                                                                REMINDER FROM O2: To get 2.50 pounds free call credit and details of great offers pls reply 2 this text with your valid name, house no and postcode  \n",
       "5567                                                                                                                   This is the 2nd time we have tried 2 contact u. U have won the £750 Pound prize. 2 claim is easy, call 087187272008 NOW1! Only 10p per minute. BT-national-rate.  \n",
       "5568                                                                                                                                                                                                                                               Will ü b going to esplanade fr home?  \n",
       "5569                                                                                                                                                                                                                          Pity, * was in mood for that. So...any other suggestions?  \n",
       "5570                                                                                                                                                      The guy did some bitching but I acted like i'd be interested in buying something else next week and he gave it to us for free  \n",
       "5571                                                                                                                                                                                                                                                         Rofl. Its true to its name  \n",
       "\n",
       "[5572 rows x 2 columns]"
      ]
     },
     "execution_count": 2,
     "metadata": {},
     "output_type": "execute_result"
    }
   ],
   "source": [
    "df = pd.read_csv('smsspamcollection/SMSSpamCollection.txt', delimiter='\\t', names = ['label', 'sms'])\n",
    "df"
   ]
  },
  {
   "cell_type": "markdown",
   "metadata": {},
   "source": [
    "### 3)"
   ]
  },
  {
   "cell_type": "code",
   "execution_count": 3,
   "metadata": {
    "collapsed": false
   },
   "outputs": [],
   "source": [
    "X = df.sms\n",
    "Y = np.array([1 if e == \"spam\" else 0 for e in df.label])"
   ]
  },
  {
   "cell_type": "code",
   "execution_count": 4,
   "metadata": {
    "collapsed": false
   },
   "outputs": [
    {
     "name": "stdout",
     "output_type": "stream",
     "text": [
      "spam : 747, non-spam : 4825\n"
     ]
    }
   ],
   "source": [
    "print(\"spam : %d, non-spam : %d\" % (len(Y[Y==1]), len(Y[Y==0])))"
   ]
  },
  {
   "cell_type": "markdown",
   "metadata": {},
   "source": [
    "### 4)"
   ]
  },
  {
   "cell_type": "code",
   "execution_count": 5,
   "metadata": {
    "collapsed": false
   },
   "outputs": [],
   "source": [
    "vectorizer = CountVectorizer()#ngram_range=(1,2))\n",
    "X = vectorizer.fit_transform(X)"
   ]
  },
  {
   "cell_type": "markdown",
   "metadata": {},
   "source": [
    "### 5)"
   ]
  },
  {
   "cell_type": "code",
   "execution_count": 6,
   "metadata": {
    "collapsed": false
   },
   "outputs": [
    {
     "name": "stdout",
     "output_type": "stream",
     "text": [
      "mean f1-score:  0.932640298361\n",
      "std f1-score: 0.0195638214575\n"
     ]
    }
   ],
   "source": [
    "clf = LogisticRegression()\n",
    "res = cross_val_score(clf, X, Y, scoring=\"f1\", cv=10)\n",
    "print(\"mean f1-score: \", np.mean(res))\n",
    "print(\"std f1-score:\", np.std(res))"
   ]
  },
  {
   "cell_type": "markdown",
   "metadata": {},
   "source": [
    "### 6)"
   ]
  },
  {
   "cell_type": "code",
   "execution_count": 7,
   "metadata": {
    "collapsed": false
   },
   "outputs": [
    {
     "name": "stdout",
     "output_type": "stream",
     "text": [
      "FreeMsg: Txt: CALL to  No: 86888 & claim your reward of 3 hours talk time to use from your phone   now! Subscribe6GB 1\n",
      "FreeMsg: Txt: claim your reward of 3 hours talk time 1\n",
      "Have you visited the last lecture on physics? 0\n",
      "Have you visited the last lecture on physics? Just buy this book and you will have all materials! Only 99$ 0\n",
      "Only 99$ 0\n"
     ]
    }
   ],
   "source": [
    "clf.fit(X, Y)\n",
    "sms_to_predict = [\"FreeMsg: Txt: CALL to  No: 86888 & claim your reward of 3 hours talk time to use from your phone   now! Subscribe6GB\",\n",
    "\"FreeMsg: Txt: claim your reward of 3 hours talk time\",\n",
    "\"Have you visited the last lecture on physics?\",\n",
    "\"Have you visited the last lecture on physics? Just buy this book and you will have all materials! Only 99$\",\n",
    "\"Only 99$\"]\n",
    "for prediction in zip(sms_to_predict, clf.predict(vectorizer.transform(sms_to_predict))):\n",
    "    print(*prediction)"
   ]
  },
  {
   "cell_type": "markdown",
   "metadata": {},
   "source": [
    "### 7)"
   ]
  },
  {
   "cell_type": "code",
   "execution_count": 8,
   "metadata": {
    "collapsed": false
   },
   "outputs": [
    {
     "name": "stdout",
     "output_type": "stream",
     "text": [
      "ngram range:  (1, 1)\n",
      "mean f1-score:  0.932640298361\n",
      "std f1-score: 0.0195638214575 \n",
      "\n",
      "ngram range:  (2, 2)\n",
      "mean f1-score:  0.822422066419\n",
      "std f1-score: 0.0256477437263 \n",
      "\n",
      "ngram range:  (3, 3)\n",
      "mean f1-score:  0.725016155547\n",
      "std f1-score: 0.0172974110334 \n",
      "\n",
      "ngram range:  (1, 3)\n",
      "mean f1-score:  0.925138255865\n",
      "std f1-score: 0.0176059719963 \n",
      "\n"
     ]
    }
   ],
   "source": [
    "clf = LogisticRegression()\n",
    "for n_gram_range in [(1,1), (2,2), (3,3), (1,3)]:\n",
    "    vectorizer = CountVectorizer(ngram_range = n_gram_range)\n",
    "    X = df.sms\n",
    "    X = vectorizer.fit_transform(X)\n",
    "    res = cross_val_score(clf, X, Y, scoring=\"f1\", cv=10)\n",
    "    print(\"ngram range: \", n_gram_range)\n",
    "    print(\"mean f1-score: \", np.mean(res))\n",
    "    print(\"std f1-score:\", np.std(res), \"\\n\")"
   ]
  },
  {
   "cell_type": "markdown",
   "metadata": {},
   "source": [
    "### 8)"
   ]
  },
  {
   "cell_type": "code",
   "execution_count": 9,
   "metadata": {
    "collapsed": false
   },
   "outputs": [
    {
     "name": "stdout",
     "output_type": "stream",
     "text": [
      "ngram range:  (1, 1)\n",
      "mean f1-score:  0.927730355685\n",
      "std f1-score: 0.0173219255889 \n",
      "\n",
      "ngram range:  (2, 2)\n",
      "mean f1-score:  0.645501517799\n",
      "std f1-score: 0.0207880972743 \n",
      "\n",
      "ngram range:  (3, 3)\n",
      "mean f1-score:  0.378719485246\n",
      "std f1-score: 0.0094506008815 \n",
      "\n",
      "ngram range:  (1, 3)\n",
      "mean f1-score:  0.888485965606\n",
      "std f1-score: 0.0228955703578 \n",
      "\n"
     ]
    }
   ],
   "source": [
    "from sklearn.naive_bayes import MultinomialNB\n",
    "clf = MultinomialNB()\n",
    "for n_gram_range in [(1,1), (2,2), (3,3), (1,3)]:\n",
    "    vectorizer = CountVectorizer(ngram_range = n_gram_range)\n",
    "    X = df.sms\n",
    "    X = vectorizer.fit_transform(X)\n",
    "    res = cross_val_score(clf, X, Y, scoring=\"f1\", cv=10)\n",
    "    print(\"ngram range: \", n_gram_range)\n",
    "    print(\"mean f1-score: \", np.mean(res))\n",
    "    print(\"std f1-score:\", np.std(res), \"\\n\")"
   ]
  },
  {
   "cell_type": "markdown",
   "metadata": {},
   "source": [
    "### 9)"
   ]
  },
  {
   "cell_type": "code",
   "execution_count": 10,
   "metadata": {
    "collapsed": false
   },
   "outputs": [
    {
     "name": "stdout",
     "output_type": "stream",
     "text": [
      "mean f1-score:  0.852859955417\n",
      "std f1-score: 0.0238364215221\n"
     ]
    }
   ],
   "source": [
    "from sklearn.feature_extraction.text import TfidfVectorizer\n",
    "vectorizer = TfidfVectorizer()\n",
    "X = vectorizer.fit_transform(df.sms)\n",
    "clf = LogisticRegression()\n",
    "res = cross_val_score(clf, X, Y, scoring=\"f1\", cv=10)\n",
    "print(\"mean f1-score: \", np.mean(res))\n",
    "print(\"std f1-score:\", np.std(res))"
   ]
  },
  {
   "cell_type": "markdown",
   "metadata": {},
   "source": [
    "### 10)"
   ]
  },
  {
   "cell_type": "code",
   "execution_count": 11,
   "metadata": {
    "collapsed": true
   },
   "outputs": [],
   "source": [
    "from stemming.porter2 import stem\n",
    "from nltk.corpus import stopwords\n",
    "from sklearn.model_selection import GridSearchCV\n",
    "import re"
   ]
  },
  {
   "cell_type": "markdown",
   "metadata": {},
   "source": [
    "Применим стемминг (который, на самом деле, почти не влияет на качество здесь), предварительно заменив числа любого вида на 'number', а последовательность знаков $ на 'dollar'."
   ]
  },
  {
   "cell_type": "code",
   "execution_count": 12,
   "metadata": {
    "collapsed": false
   },
   "outputs": [],
   "source": [
    "def stem_sms(sms):\n",
    "    sms = re.sub('[0-9]+', 'number', sms)\n",
    "    sms = re.sub('[$]+', ' dollar ', sms)\n",
    "    sms = stem(sms)\n",
    "    return sms\n",
    "\n",
    "stemmed_X = list()\n",
    "for sms in list(df.sms):\n",
    "    stemmed_X.append(stem_sms(sms))\n",
    "stemmed_X = np.array(stemmed_X)"
   ]
  },
  {
   "cell_type": "markdown",
   "metadata": {},
   "source": [
    "Будем игнорировать стоп-слова. (это тоже почти не влияет на качество)"
   ]
  },
  {
   "cell_type": "code",
   "execution_count": 13,
   "metadata": {
    "collapsed": true
   },
   "outputs": [],
   "source": [
    "vectorizer = CountVectorizer(stop_words=stopwords.words(\"english\"), ngram_range=(1,1))\n",
    "X = vectorizer.fit_transform(stemmed_X)"
   ]
  },
  {
   "cell_type": "markdown",
   "metadata": {},
   "source": [
    "Найдем лучшее параметры и соответствующее качество, с помощью кросс-валидации. "
   ]
  },
  {
   "cell_type": "code",
   "execution_count": 14,
   "metadata": {
    "collapsed": false
   },
   "outputs": [
    {
     "name": "stdout",
     "output_type": "stream",
     "text": [
      "Fitting 10 folds for each of 68 candidates, totalling 680 fits\n"
     ]
    },
    {
     "name": "stderr",
     "output_type": "stream",
     "text": [
      "[Parallel(n_jobs=-1)]: Done  50 tasks      | elapsed:    2.8s\n",
      "[Parallel(n_jobs=-1)]: Done 350 tasks      | elapsed:   26.7s\n"
     ]
    },
    {
     "name": "stdout",
     "output_type": "stream",
     "text": [
      "baseline in 5th paragraph: 0.932640298361\n",
      "best score: 0.955120304834\n",
      "best_params: {'C': 1000000, 'solver': 'lbfgs'}\n"
     ]
    },
    {
     "name": "stderr",
     "output_type": "stream",
     "text": [
      "[Parallel(n_jobs=-1)]: Done 680 out of 680 | elapsed:   55.9s finished\n"
     ]
    }
   ],
   "source": [
    "clf = LogisticRegression(max_iter=-1)\n",
    "params = {'solver' : ['newton-cg', 'lbfgs', 'liblinear', 'sag'], 'C' : [0.01, 0.1, 0.5, 1, 5, 10, 100, 200, 500, 1000, 10000, 15000, 20000, 100000, 200000, 500000, 1000000]}\n",
    "clf = GridSearchCV(LogisticRegression(), params, cv=10, verbose=1, scoring=\"f1\", n_jobs=-1)\n",
    "clf.fit(X, Y)\n",
    "print(\"baseline in 5th paragraph: 0.932640298361\")\n",
    "print(\"best score:\", clf.best_score_)\n",
    "print(\"best_params:\", clf.best_params_)"
   ]
  },
  {
   "cell_type": "markdown",
   "metadata": {},
   "source": [
    "Удалось немного улучшить качество, основоной вклад в улучшение внесла замена классов слов на одно слово. Но все же на примерах из 6-ого пункта результат тот же:"
   ]
  },
  {
   "cell_type": "code",
   "execution_count": 16,
   "metadata": {
    "collapsed": false
   },
   "outputs": [
    {
     "name": "stdout",
     "output_type": "stream",
     "text": [
      "FreeMsg: Txt: CALL to  No: 86888 & claim your reward of 3 hours talk time to use from your phone   now! Subscribe6GB [1]\n",
      "FreeMsg: Txt: claim your reward of 3 hours talk time [1]\n",
      "Have you visited the last lecture on physics? [0]\n",
      "Have you visited the last lecture on physics? Just buy this book and you will have all materials! Only 99$ [0]\n",
      "Only 99$ [0]\n"
     ]
    }
   ],
   "source": [
    "best_clf = clf.best_estimator_\n",
    "best_clf.fit(X, Y)\n",
    "for sms in sms_to_predict:\n",
    "    print(sms, best_clf.predict(vectorizer.transform([stem_sms(sms)])))"
   ]
  },
  {
   "cell_type": "markdown",
   "metadata": {},
   "source": [
    "### 11)  Выводы"
   ]
  },
  {
   "cell_type": "markdown",
   "metadata": {},
   "source": [
    "Основной посыл, которое несет это задание, на мой взгляд, что не всегда более сложный подход ведет к лучшему качеству, бывает что наоборот. Иногда для улучшения качества необходимо исходить из конкретной задачи и придумывать что-то свое, какую-нибудь эвристику. Ну и нужно не забывать о подборе гиперпараметров."
   ]
  }
 ],
 "metadata": {
  "anaconda-cloud": {},
  "kernelspec": {
   "display_name": "Python [default]",
   "language": "python",
   "name": "python3"
  },
  "language_info": {
   "codemirror_mode": {
    "name": "ipython",
    "version": 3
   },
   "file_extension": ".py",
   "mimetype": "text/x-python",
   "name": "python",
   "nbconvert_exporter": "python",
   "pygments_lexer": "ipython3",
   "version": "3.5.2"
  }
 },
 "nbformat": 4,
 "nbformat_minor": 1
}
